{
 "cells": [
  {
   "cell_type": "code",
   "execution_count": 2,
   "id": "8d613a49-17e2-4969-a6dc-9fc384339c10",
   "metadata": {},
   "outputs": [],
   "source": [
    "import re, json"
   ]
  },
  {
   "cell_type": "markdown",
   "id": "5f8ebebe-da45-4f64-a7f8-690f69dda8d8",
   "metadata": {},
   "source": [
    "# Define Design Space"
   ]
  },
  {
   "cell_type": "code",
   "execution_count": 3,
   "id": "e4a1170c-f2fc-4cee-a1e3-3748978fda11",
   "metadata": {},
   "outputs": [
    {
     "name": "stdout",
     "output_type": "stream",
     "text": [
      "{\n",
      "    \"module\": \"alu\",\n",
      "    \"parameters\": {\n",
      "        \"WIDTH\": \"32\"\n",
      "    },\n",
      "    \"inputs\": {\n",
      "        \"H\": \"WIDT\",\n",
      "        \"opcode\": \"3:0\",\n",
      "        \"adder_sel\": \"1:0\",\n",
      "        \"sub_sel\": \"1:0\",\n",
      "        \"mul_sel\": \"1:0\",\n",
      "        \"div_sel\": \"1:0\",\n",
      "        \"shifter_sel\": \"1:0\"\n",
      "    },\n",
      "    \"outputs\": {\n",
      "        \"H\": \"WIDT\",\n",
      "        \"o\": \"zer\"\n",
      "    },\n",
      "    \"submodules\": []\n",
      "}\n"
     ]
    }
   ],
   "source": [
    "def parse_verilog(verilog_file):\n",
    "    with open(verilog_file, 'r') as f:\n",
    "        content = f.read()\n",
    "    \n",
    "    module_name = re.search(r'module\\s+(\\w+)', content).group(1)\n",
    "    parameters = re.findall(r'parameter\\s+(\\w+)\\s*=\\s*([\\w\\'\"]+)', content)\n",
    "    inputs = re.findall(r'input\\s+(?:reg|wire)?\\s*\\[?([\\w:]+)?\\]?\\s*(\\w+)', content)\n",
    "    outputs = re.findall(r'output\\s+(?:reg|wire)?\\s*\\[?([\\w:]+)?\\]?\\s*(\\w+)', content)\n",
    "    submodules = re.findall(r'(\\w+)\\s+#?\\(?(?:\\#?\\([\\w\\s,=\\']+\\))?\\s*(\\w+)\\s*\\(([\\w\\s,.=]+)\\);', content)\n",
    "    \n",
    "    module_info = {\n",
    "        \"module_name\": module_name,\n",
    "        \"parameters\": {param[0]: param[1] for param in parameters},\n",
    "        \"inputs\": {inp[1]: inp[0] for inp in inputs},\n",
    "        \"outputs\": {out[1]: out[0] for out in outputs},\n",
    "        \"submodules\": []\n",
    "    }\n",
    "\n",
    "    for submodule in submodules:\n",
    "        submodule_name, instance_name, connections = submodule\n",
    "        connection_dict = {conn.split('(')[0].strip(): conn.split('(')[1].strip(' )') for conn in connections.split(',')}\n",
    "        module_info[\"submodules\"].append({\n",
    "            \"submodule_name\": submodule_name,\n",
    "            \"instance_name\": instance_name,\n",
    "            \"connections\": connection_dict\n",
    "        })\n",
    "    \n",
    "    return module_info\n",
    "\n",
    "def generate_design_space(module_info):\n",
    "    design_space = {\n",
    "        \"module\": module_info[\"module_name\"],\n",
    "        \"parameters\": module_info[\"parameters\"],\n",
    "        \"inputs\": module_info[\"inputs\"],\n",
    "        \"outputs\": module_info[\"outputs\"],\n",
    "        \"submodules\": []\n",
    "    }\n",
    "    \n",
    "    for submodule in module_info[\"submodules\"]:\n",
    "        design_space[\"submodules\"].append({\n",
    "            \"submodule_name\": submodule[\"submodule_name\"],\n",
    "            \"instance_name\": submodule[\"instance_name\"],\n",
    "            \"connections\": submodule[\"connections\"],\n",
    "            \"customization_options\": []  # Placeholder for customization options\n",
    "        })\n",
    "    \n",
    "    return design_space\n",
    "\n",
    "verilog_file = \"alu.v\"\n",
    "alu_info = parse_verilog(verilog_file)\n",
    "design_space = generate_design_space(alu_info)\n",
    "print(json.dumps(design_space, indent=4))"
   ]
  },
  {
   "cell_type": "code",
   "execution_count": 1,
   "id": "c23a06ae-d95a-4cca-84d3-d0d80b0b0e13",
   "metadata": {},
   "outputs": [],
   "source": [
    "import itertools\n",
    "\n",
    "# Define parameter values\n",
    "subunits = ['adder', 'subtractor', 'multiplier', 'divider', 'shifter']\n",
    "adder_types = ['ripple_carry', 'carry_lookahead']\n",
    "bit_widths = [8, 16, 32]\n",
    "pipeline_stages = [1, 2, 3]\n",
    "clock_frequencies = [100e6, 200e6, 300e6]  # in Hz\n",
    "\n",
    "# Generate all combinations\n",
    "design_space = list(itertools.product(subunits, adder_types, bit_widths, pipeline_stages, clock_frequencies))"
   ]
  },
  {
   "cell_type": "code",
   "execution_count": 2,
   "id": "7414fc8b-4322-4877-b525-3498e7db4244",
   "metadata": {},
   "outputs": [],
   "source": [
    "def encode_design_point(subunit, adder_type, bit_width, pipeline_stages, clock_frequency):\n",
    "    return {\n",
    "        'subunit': subunit,\n",
    "        'adder_type': adder_type,\n",
    "        'bit_width': bit_width,\n",
    "        'pipeline_stages': pipeline_stages,\n",
    "        'clock_frequency': clock_frequency\n",
    "    }\n",
    "\n",
    "# Encode all design points\n",
    "encoded_design_space = [encode_design_point(*dp) for dp in design_space]"
   ]
  },
  {
   "cell_type": "code",
   "execution_count": 3,
   "id": "b4f6be0f-d57a-44c2-8649-5fb78724c8d2",
   "metadata": {},
   "outputs": [],
   "source": [
    "# Define a function to check constraints\n",
    "def is_valid_design(design_point):\n",
    "    # Example constraint: bit_width should be compatible with subunit type\n",
    "    if design_point['subunit'] == 'adder' and design_point['adder_type'] == 'carry_lookahead' and design_point['bit_width'] > 16:\n",
    "        return False\n",
    "    return True\n",
    "\n",
    "# Filter out invalid design points\n",
    "valid_design_space = [dp for dp in encoded_design_space if is_valid_design(dp)]"
   ]
  },
  {
   "cell_type": "markdown",
   "id": "f4791cb6-c0ef-4a63-8021-7f4bbd61e978",
   "metadata": {},
   "source": [
    "# Explore Design Space"
   ]
  },
  {
   "cell_type": "markdown",
   "id": "a957e400-d409-4369-9a9b-2681b75ceada",
   "metadata": {},
   "source": [
    "## Test Design"
   ]
  },
  {
   "cell_type": "code",
   "execution_count": null,
   "id": "2396ee4c-ef12-4531-a636-79b2428cf8d0",
   "metadata": {},
   "outputs": [],
   "source": [
    "import random\n",
    "\n",
    "def simulate_design(design_point):\n",
    "    # Code to run the testbench, collect timing, power, and performance data\n",
    "    # Placeholder return value\n",
    "    return random.random()"
   ]
  },
  {
   "cell_type": "markdown",
   "id": "9d5cc0e8-dda8-419c-9ad4-794dc2ec656b",
   "metadata": {},
   "source": [
    "## Evaluate Design"
   ]
  },
  {
   "cell_type": "code",
   "execution_count": null,
   "id": "08bc2120-8ea7-4735-a980-250d2e37d310",
   "metadata": {},
   "outputs": [],
   "source": [
    "# Define evaluation function\n",
    "def evaluate(individual):\n",
    "    # Perform simulation and return performance metrics (e.g., latency, power)\n",
    "    # Placeholder evaluation function\n",
    "    performance_metric = simulate_design(individual)\n",
    "    return performance_metric,"
   ]
  },
  {
   "cell_type": "markdown",
   "id": "da062f5c-b1be-486c-bdc0-fd80210b3f4a",
   "metadata": {},
   "source": [
    "## DEAP"
   ]
  },
  {
   "cell_type": "code",
   "execution_count": null,
   "id": "736f8a7e-87aa-43e6-9df7-c5548edae1e4",
   "metadata": {},
   "outputs": [
    {
     "name": "stdout",
     "output_type": "stream",
     "text": [
      "gen\tnevals\n",
      "0  \t100   \n"
     ]
    },
    {
     "name": "stderr",
     "output_type": "stream",
     "text": [
      "C:\\Users\\ugheewala\\Documents\\sim\\lib\\site-packages\\deap\\creator.py:185: RuntimeWarning: A class named 'FitnessMin' has already been created and it will be overwritten. Consider deleting previous creation of that class or rename it.\n",
      "  warnings.warn(\"A class named '{0}' has already been created and it \"\n",
      "C:\\Users\\ugheewala\\Documents\\sim\\lib\\site-packages\\deap\\creator.py:185: RuntimeWarning: A class named 'Individual' has already been created and it will be overwritten. Consider deleting previous creation of that class or rename it.\n",
      "  warnings.warn(\"A class named '{0}' has already been created and it \"\n"
     ]
    },
    {
     "ename": "TypeError",
     "evalue": "unhashable type: 'slice'",
     "output_type": "error",
     "traceback": [
      "\u001b[1;31m---------------------------------------------------------------------------\u001b[0m",
      "\u001b[1;31mTypeError\u001b[0m                                 Traceback (most recent call last)",
      "Cell \u001b[1;32mIn[5], line 34\u001b[0m\n\u001b[0;32m     32\u001b[0m \u001b[38;5;66;03m# Run genetic algorithm\u001b[39;00m\n\u001b[0;32m     33\u001b[0m population \u001b[38;5;241m=\u001b[39m toolbox\u001b[38;5;241m.\u001b[39mpopulation(n\u001b[38;5;241m=\u001b[39m\u001b[38;5;241m100\u001b[39m)\n\u001b[1;32m---> 34\u001b[0m \u001b[43malgorithms\u001b[49m\u001b[38;5;241;43m.\u001b[39;49m\u001b[43meaSimple\u001b[49m\u001b[43m(\u001b[49m\u001b[43mpopulation\u001b[49m\u001b[43m,\u001b[49m\u001b[43m \u001b[49m\u001b[43mtoolbox\u001b[49m\u001b[43m,\u001b[49m\u001b[43m \u001b[49m\u001b[43mcxpb\u001b[49m\u001b[38;5;241;43m=\u001b[39;49m\u001b[38;5;241;43m0.5\u001b[39;49m\u001b[43m,\u001b[49m\u001b[43m \u001b[49m\u001b[43mmutpb\u001b[49m\u001b[38;5;241;43m=\u001b[39;49m\u001b[38;5;241;43m0.2\u001b[39;49m\u001b[43m,\u001b[49m\u001b[43m \u001b[49m\u001b[43mngen\u001b[49m\u001b[38;5;241;43m=\u001b[39;49m\u001b[38;5;241;43m50\u001b[39;49m\u001b[43m,\u001b[49m\u001b[43m \u001b[49m\u001b[43mstats\u001b[49m\u001b[38;5;241;43m=\u001b[39;49m\u001b[38;5;28;43;01mNone\u001b[39;49;00m\u001b[43m,\u001b[49m\u001b[43m \u001b[49m\u001b[43mhalloffame\u001b[49m\u001b[38;5;241;43m=\u001b[39;49m\u001b[38;5;28;43;01mNone\u001b[39;49;00m\u001b[43m,\u001b[49m\u001b[43m \u001b[49m\u001b[43mverbose\u001b[49m\u001b[38;5;241;43m=\u001b[39;49m\u001b[38;5;28;43;01mTrue\u001b[39;49;00m\u001b[43m)\u001b[49m\n",
      "File \u001b[1;32m~\\Documents\\sim\\lib\\site-packages\\deap\\algorithms.py:168\u001b[0m, in \u001b[0;36meaSimple\u001b[1;34m(population, toolbox, cxpb, mutpb, ngen, stats, halloffame, verbose)\u001b[0m\n\u001b[0;32m    165\u001b[0m offspring \u001b[38;5;241m=\u001b[39m toolbox\u001b[38;5;241m.\u001b[39mselect(population, \u001b[38;5;28mlen\u001b[39m(population))\n\u001b[0;32m    167\u001b[0m \u001b[38;5;66;03m# Vary the pool of individuals\u001b[39;00m\n\u001b[1;32m--> 168\u001b[0m offspring \u001b[38;5;241m=\u001b[39m \u001b[43mvarAnd\u001b[49m\u001b[43m(\u001b[49m\u001b[43moffspring\u001b[49m\u001b[43m,\u001b[49m\u001b[43m \u001b[49m\u001b[43mtoolbox\u001b[49m\u001b[43m,\u001b[49m\u001b[43m \u001b[49m\u001b[43mcxpb\u001b[49m\u001b[43m,\u001b[49m\u001b[43m \u001b[49m\u001b[43mmutpb\u001b[49m\u001b[43m)\u001b[49m\n\u001b[0;32m    170\u001b[0m \u001b[38;5;66;03m# Evaluate the individuals with an invalid fitness\u001b[39;00m\n\u001b[0;32m    171\u001b[0m invalid_ind \u001b[38;5;241m=\u001b[39m [ind \u001b[38;5;28;01mfor\u001b[39;00m ind \u001b[38;5;129;01min\u001b[39;00m offspring \u001b[38;5;28;01mif\u001b[39;00m \u001b[38;5;129;01mnot\u001b[39;00m ind\u001b[38;5;241m.\u001b[39mfitness\u001b[38;5;241m.\u001b[39mvalid]\n",
      "File \u001b[1;32m~\\Documents\\sim\\lib\\site-packages\\deap\\algorithms.py:73\u001b[0m, in \u001b[0;36mvarAnd\u001b[1;34m(population, toolbox, cxpb, mutpb)\u001b[0m\n\u001b[0;32m     71\u001b[0m \u001b[38;5;28;01mfor\u001b[39;00m i \u001b[38;5;129;01min\u001b[39;00m \u001b[38;5;28mrange\u001b[39m(\u001b[38;5;241m1\u001b[39m, \u001b[38;5;28mlen\u001b[39m(offspring), \u001b[38;5;241m2\u001b[39m):\n\u001b[0;32m     72\u001b[0m     \u001b[38;5;28;01mif\u001b[39;00m random\u001b[38;5;241m.\u001b[39mrandom() \u001b[38;5;241m<\u001b[39m cxpb:\n\u001b[1;32m---> 73\u001b[0m         offspring[i \u001b[38;5;241m-\u001b[39m \u001b[38;5;241m1\u001b[39m], offspring[i] \u001b[38;5;241m=\u001b[39m \u001b[43mtoolbox\u001b[49m\u001b[38;5;241;43m.\u001b[39;49m\u001b[43mmate\u001b[49m\u001b[43m(\u001b[49m\u001b[43moffspring\u001b[49m\u001b[43m[\u001b[49m\u001b[43mi\u001b[49m\u001b[43m \u001b[49m\u001b[38;5;241;43m-\u001b[39;49m\u001b[43m \u001b[49m\u001b[38;5;241;43m1\u001b[39;49m\u001b[43m]\u001b[49m\u001b[43m,\u001b[49m\n\u001b[0;32m     74\u001b[0m \u001b[43m                                                      \u001b[49m\u001b[43moffspring\u001b[49m\u001b[43m[\u001b[49m\u001b[43mi\u001b[49m\u001b[43m]\u001b[49m\u001b[43m)\u001b[49m\n\u001b[0;32m     75\u001b[0m         \u001b[38;5;28;01mdel\u001b[39;00m offspring[i \u001b[38;5;241m-\u001b[39m \u001b[38;5;241m1\u001b[39m]\u001b[38;5;241m.\u001b[39mfitness\u001b[38;5;241m.\u001b[39mvalues, offspring[i]\u001b[38;5;241m.\u001b[39mfitness\u001b[38;5;241m.\u001b[39mvalues\n\u001b[0;32m     77\u001b[0m \u001b[38;5;28;01mfor\u001b[39;00m i \u001b[38;5;129;01min\u001b[39;00m \u001b[38;5;28mrange\u001b[39m(\u001b[38;5;28mlen\u001b[39m(offspring)):\n",
      "File \u001b[1;32m~\\Documents\\sim\\lib\\site-packages\\deap\\tools\\crossover.py:57\u001b[0m, in \u001b[0;36mcxTwoPoint\u001b[1;34m(ind1, ind2)\u001b[0m\n\u001b[0;32m     53\u001b[0m \u001b[38;5;28;01melse\u001b[39;00m:  \u001b[38;5;66;03m# Swap the two cx points\u001b[39;00m\n\u001b[0;32m     54\u001b[0m     cxpoint1, cxpoint2 \u001b[38;5;241m=\u001b[39m cxpoint2, cxpoint1\n\u001b[0;32m     56\u001b[0m ind1[cxpoint1:cxpoint2], ind2[cxpoint1:cxpoint2] \\\n\u001b[1;32m---> 57\u001b[0m     \u001b[38;5;241m=\u001b[39m \u001b[43mind2\u001b[49m\u001b[43m[\u001b[49m\u001b[43mcxpoint1\u001b[49m\u001b[43m:\u001b[49m\u001b[43mcxpoint2\u001b[49m\u001b[43m]\u001b[49m, ind1[cxpoint1:cxpoint2]\n\u001b[0;32m     59\u001b[0m \u001b[38;5;28;01mreturn\u001b[39;00m ind1, ind2\n",
      "\u001b[1;31mTypeError\u001b[0m: unhashable type: 'slice'"
     ]
    }
   ],
   "source": [
    "from deap import base, creator, tools, algorithms\n",
    "\n",
    "# Define fitness and individual\n",
    "creator.create(\"FitnessMin\", base.Fitness, weights=(-1.0,))\n",
    "creator.create(\"Individual\", dict, fitness=creator.FitnessMin)\n",
    "\n",
    "# Initialize toolbox\n",
    "toolbox = base.Toolbox()\n",
    "toolbox.register(\"individual\", tools.initIterate, creator.Individual, lambda: valid_design_space[random.randint(0, len(valid_design_space)-1)])\n",
    "toolbox.register(\"population\", tools.initRepeat, list, toolbox.individual)\n",
    "\n",
    "# Register genetic algorithm operations\n",
    "toolbox.register(\"mate\", tools.cxTwoPoint)\n",
    "toolbox.register(\"mutate\", tools.mutShuffleIndexes, indpb=0.05)\n",
    "toolbox.register(\"select\", tools.selTournament, tournsize=3)\n",
    "toolbox.register(\"evaluate\", evaluate)\n",
    "\n",
    "# Run genetic algorithm\n",
    "population = toolbox.population(n=100)\n",
    "algorithms.eaSimple(population, toolbox, cxpb=0.5, mutpb=0.2, ngen=50, stats=None, halloffame=None, verbose=True)"
   ]
  },
  {
   "cell_type": "markdown",
   "id": "05a42d83-72f9-4ab0-a1f5-dcf30cd7cf4d",
   "metadata": {},
   "source": [
    "# Rank all Designs"
   ]
  },
  {
   "cell_type": "code",
   "execution_count": null,
   "id": "50c45ca1-fe66-4774-8bc8-6ca30d9f6bc2",
   "metadata": {},
   "outputs": [],
   "source": []
  }
 ],
 "metadata": {
  "kernelspec": {
   "display_name": "Python 3 (ipykernel)",
   "language": "python",
   "name": "python3"
  },
  "language_info": {
   "codemirror_mode": {
    "name": "ipython",
    "version": 3
   },
   "file_extension": ".py",
   "mimetype": "text/x-python",
   "name": "python",
   "nbconvert_exporter": "python",
   "pygments_lexer": "ipython3",
   "version": "3.10.11"
  }
 },
 "nbformat": 4,
 "nbformat_minor": 5
}
